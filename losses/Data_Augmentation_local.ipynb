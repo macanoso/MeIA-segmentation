{
  "cells": [
    {
      "cell_type": "code",
      "execution_count": null,
      "metadata": {},
      "outputs": [],
      "source": [
        "!pip install albumentations"
      ]
    },
    {
      "cell_type": "markdown",
      "metadata": {
        "id": "bnwwVhIKI7wy"
      },
      "source": [
        "# **Deep Learning Exploration**"
      ]
    },
    {
      "cell_type": "markdown",
      "metadata": {
        "id": "r7fvJ9xfJAC3"
      },
      "source": [
        "## **Load Data**"
      ]
    },
    {
      "cell_type": "code",
      "execution_count": 10,
      "metadata": {
        "colab": {
          "base_uri": "https://localhost:8080/"
        },
        "id": "l5DJK0r384jq",
        "outputId": "cd44b7bf-d7cd-476a-9e9c-de2e622e574a"
      },
      "outputs": [
        {
          "name": "stdout",
          "output_type": "stream",
          "text": [
            "/Users/macano/Desktop/Tesis_code/GeoAI\n"
          ]
        }
      ],
      "source": [
        "root_dir = \"/Users/macano/Desktop/Tesis_code/GeoAI\"\n",
        "base_dir = root_dir\n",
        "print(base_dir)"
      ]
    },
    {
      "cell_type": "markdown",
      "metadata": {
        "id": "zr4qEy16JGA_"
      },
      "source": [
        "## **Data Augmentation**"
      ]
    },
    {
      "cell_type": "markdown",
      "metadata": {
        "id": "fZ8QdGnjJJ4L"
      },
      "source": [
        "En este apartado se genera la aumentación de datos, buscando que la aumentación sea aplicada a ambas clases se crean dos generadores con las mismas caracteristicas y posterior a eso se embeben en un iterable. Esta aumentación se le aplica a cada una de las imagenes y mascaras y se obtiene dos carpetas una con mascaras aumentadas y una con imagenes aumentadas, que posterior a esto se pueden usar para entrenar redes neuronales. "
      ]
    },
    {
      "cell_type": "code",
      "execution_count": 11,
      "metadata": {
        "id": "4RtvlNcZCADX"
      },
      "outputs": [
        {
          "name": "stdout",
          "output_type": "stream",
          "text": [
            "Listo!\n"
          ]
        }
      ],
      "source": [
        "import os\n",
        "import shutil\n",
        "\n",
        "# Carpeta de origen\n",
        "src_folder = os.path.join(base_dir, 'Training')\n",
        "\n",
        "# Carpeta de destino principal\n",
        "dst_folder = os.path.join(base_dir, 'Train_v2')\n",
        "if not os.path.exists(dst_folder):\n",
        "    os.makedirs(dst_folder)\n",
        "\n",
        "# Carpeta de destino para imágenes reales\n",
        "dst_real_folder = os.path.join(dst_folder, \"real_img\")\n",
        "if not os.path.exists(dst_real_folder):\n",
        "    os.makedirs(dst_real_folder)\n",
        "\n",
        "# Carpeta de destino para máscaras\n",
        "dst_mask_folder = os.path.join(dst_folder, \"mask\")\n",
        "if not os.path.exists(dst_mask_folder):\n",
        "    os.makedirs(dst_mask_folder)\n",
        "\n",
        "# Contadores para reenumerar\n",
        "real_count = 1\n",
        "mask_count = 1\n",
        "\n",
        "# Iterar a través de las carpetas de origen\n",
        "for i in range (1,5):\n",
        "  tif_path = os.path.join(src_folder, \"real_img\", f'TIF_{i}')\n",
        "  mask_path = os.path.join(src_folder, \"mask\", f'TIF_{i}')\n",
        "\n",
        "    # Copiar imágenes reales a la carpeta de destino\n",
        "  for img_file in os.listdir(tif_path):\n",
        "    real_dst_path = os.path.join(dst_real_folder, f\"{real_count}.png\")\n",
        "    mask_dst_path = os.path.join(dst_mask_folder, f\"{mask_count}.png\")\n",
        "    shutil.copy2(\n",
        "              os.path.join(tif_path, img_file),\n",
        "              real_dst_path\n",
        "              )\n",
        "    shutil.copy2(\n",
        "              os.path.join(mask_path, img_file),\n",
        "              mask_dst_path\n",
        "              )\n",
        "    real_count += 1\n",
        "    mask_count += 1\n",
        "\n",
        "print(\"Listo!\")"
      ]
    },
    {
      "cell_type": "code",
      "execution_count": 37,
      "metadata": {
        "id": "1MILZCih2jZE"
      },
      "outputs": [],
      "source": [
        "import os\n",
        "import cv2\n",
        "from tqdm import tqdm\n",
        "from glob import glob\n",
        "from albumentations import CenterCrop, RandomRotate90, GridDistortion, HorizontalFlip, VerticalFlip, ShiftScaleRotate, ElasticTransform, RandomBrightnessContrast, HueSaturationValue, GaussianBlur, RandomGamma, ChannelShuffle, CLAHE, RandomShadow\n",
        "\n",
        "output_dir = os.path.join(base_dir, 'augmented_images_v2')\n",
        "\n",
        "def load_data():\n",
        "     images = sorted([os.path.join(base_dir, 'Train_v2/real_img', i) for i in os.listdir(os.path.join(base_dir, \"Train_v2/real_img\"))])     \n",
        "     masks = sorted([os.path.join(base_dir, 'Train_v2/mask', i) for i in os.listdir(os.path.join(base_dir, \"Train_v2/mask\"))])\n",
        "     return images, masks"
      ]
    },
    {
      "cell_type": "code",
      "execution_count": 30,
      "metadata": {
        "id": "l_PPdj652JV-"
      },
      "outputs": [],
      "source": [
        "def augment_data_geometric(images, masks, save_path, augment=True):\n",
        "    H = 256\n",
        "    W = 256\n",
        "    \n",
        "    for x, y in tqdm(zip(images, masks), total=len(images)):\n",
        "        name = x.split(\"/\")[-1].split(\".\")\n",
        "        \"\"\" Extracting the name and extension of the image and the mask. \"\"\"\n",
        "        image_name = name[0]\n",
        "        image_extn = name[1]\n",
        "\n",
        "        name = y.split(\"/\")[-1].split(\".\")\n",
        "        mask_name = name[0]\n",
        "        mask_extn = name[1]\n",
        "\n",
        "        \"\"\" Reading image and mask. \"\"\"\n",
        "        x = cv2.imread(x, cv2.IMREAD_COLOR)\n",
        "        y = cv2.imread(y, cv2.IMREAD_COLOR)\n",
        "\n",
        "        \"\"\" Augmentation \"\"\"\n",
        "        if augment == True:\n",
        "            aug = RandomRotate90(p=1.0)\n",
        "            augmented = aug(image=x, mask=y)\n",
        "            x1 = augmented['image']\n",
        "            y1 = augmented['mask']\n",
        "\n",
        "            aug = GridDistortion(p=1.0)\n",
        "            augmented = aug(image=x, mask=y)\n",
        "            x2 = augmented['image']\n",
        "            y2 = augmented['mask']\n",
        "\n",
        "            aug = HorizontalFlip(p=1.0)\n",
        "            augmented = aug(image=x, mask=y)\n",
        "            x3 = augmented['image']\n",
        "            y3 = augmented['mask']\n",
        "\n",
        "            aug = VerticalFlip(p=1.0)\n",
        "            augmented = aug(image=x, mask=y)\n",
        "            x4 = augmented['image']\n",
        "            y4 = augmented['mask']\n",
        "\n",
        "            aug = ShiftScaleRotate(p=1.0, shift_limit=0.1, scale_limit=0.1, rotate_limit=15, border_mode=cv2.BORDER_CONSTANT)\n",
        "            augmented = aug(image=x, mask=y)\n",
        "            x5 = augmented['image']\n",
        "            y5 = augmented['mask']\n",
        "\n",
        "            aug = ElasticTransform(p=1.0, alpha=1, sigma=50, alpha_affine=50)\n",
        "            augmented = aug(image=x, mask=y)\n",
        "            x6 = augmented['image']\n",
        "            y6 = augmented['mask']\n",
        "\n",
        "            save_images = [x, x1, x2, x3, x4, x5, x6]\n",
        "            save_masks =  [y, y1, y2, y3, y4, y5, y6]\n",
        "\n",
        "        else:\n",
        "            save_images = [x]\n",
        "            save_masks = [y]\n",
        "\n",
        "        \"\"\" Saving the image and mask. \"\"\"\n",
        "        idx = 0\n",
        "        for i, m in zip(save_images, save_masks):\n",
        "            i = cv2.resize(i, (W, H))\n",
        "            m = cv2.resize(m, (W, H))\n",
        "\n",
        "            if len(images) == 1:\n",
        "                tmp_img_name = f\"{image_name}.{image_extn}\"\n",
        "                tmp_mask_name = f\"{mask_name}.{mask_extn}\"\n",
        "\n",
        "            else:\n",
        "                tmp_img_name = f\"{image_name}_{idx}.{image_extn}\"\n",
        "                tmp_mask_name = f\"{mask_name}_{idx}.{mask_extn}\"\n",
        "\n",
        "            image_path = os.path.join(save_path, \"images\", tmp_img_name)\n",
        "            mask_path = os.path.join(save_path, \"masks\", tmp_mask_name)\n",
        "\n",
        "            cv2.imwrite(image_path, i)\n",
        "            cv2.imwrite(mask_path, m)\n",
        "\n",
        "            idx += 1"
      ]
    },
    {
      "cell_type": "code",
      "execution_count": 49,
      "metadata": {},
      "outputs": [],
      "source": [
        "def augment_data_espectral(images, masks, save_path, augment=True):\n",
        "    H = 256\n",
        "    W = 256\n",
        "    \n",
        "    for x, y in tqdm(zip(images, masks), total=len(images)):\n",
        "        name = x.split(\"/\")[-1].split(\".\")\n",
        "        \"\"\" Extracting the name and extension of the image and the mask. \"\"\"\n",
        "        image_name = name[0]\n",
        "        image_extn = name[1]\n",
        "\n",
        "        name = y.split(\"/\")[-1].split(\".\")\n",
        "        mask_name = name[0]\n",
        "        mask_extn = name[1]\n",
        "\n",
        "        \"\"\" Reading image and mask. \"\"\"\n",
        "        x = cv2.imread(x, cv2.IMREAD_COLOR)\n",
        "        y = cv2.imread(y, cv2.IMREAD_COLOR)\n",
        "\n",
        "        \"\"\" Augmentation \"\"\"\n",
        "        if augment == True:\n",
        "            #cambios aleatorios en el brillo y el contraste de la imagen.\n",
        "            aug = RandomBrightnessContrast(p=1.0, brightness_limit=0.5, contrast_limit=0.5)\n",
        "            augmented = aug(image=x, mask=y)\n",
        "            x1 = augmented['image']\n",
        "            y1 = y\n",
        "\n",
        "            #cambios aleatorios en la tonalidad, la saturación y el brillo de la imagen.\n",
        "            aug = HueSaturationValue(p=1.0, hue_shift_limit=50, sat_shift_limit=50, val_shift_limit=50)\n",
        "            augmented = aug(image=x, mask=y)\n",
        "            x2 = augmented['image']\n",
        "            y2 = y\n",
        "            \n",
        "            # filtro Gaussiano aleatorio a la imagen.\n",
        "            aug = GaussianBlur(p=1.0, blur_limit=(3, 7))\n",
        "            augmented = aug(image=x, mask=y)\n",
        "            x3 = augmented['image']\n",
        "            y3 = y\n",
        "\n",
        "            # cambio aleatorio en la intensidad de la imagen utilizando la función de corrección gamma.\n",
        "            aug = RandomGamma(p=1.0, gamma_limit=(80, 120))\n",
        "            augmented = aug(image=x, mask=y)\n",
        "            x4 = augmented['image']\n",
        "            y4 = y\n",
        "\n",
        "            # método de mejora de contraste de imagen llamado Adaptive Histogram Equalization \n",
        "            # (AHE) que normaliza la distribución del histograma de la imagen.\n",
        "            aug = CLAHE(p=1.0, clip_limit=2.0, tile_grid_size=(8, 8))\n",
        "            augmented = aug(image=x, mask=y)\n",
        "            x5 = augmented['image']\n",
        "            y5 = y\n",
        "                        \n",
        "\n",
        "            save_images = [x, x1, x2, x3, x4, x5]\n",
        "            save_masks =  [y, y1, y2, y3, y4, y5]\n",
        "\n",
        "        else:\n",
        "            save_images = [x]\n",
        "            save_masks = [y]\n",
        "\n",
        "        \"\"\" Saving the image and mask. \"\"\"\n",
        "        idx = 0\n",
        "        for i, m in zip(save_images, save_masks):\n",
        "            i = cv2.resize(i, (W, H))\n",
        "            m = cv2.resize(m, (W, H))\n",
        "\n",
        "            if len(images) == 1:\n",
        "                tmp_img_name = f\"{image_name}.{image_extn}\"\n",
        "                tmp_mask_name = f\"{mask_name}.{mask_extn}\"\n",
        "\n",
        "            else:\n",
        "                tmp_img_name = f\"{image_name}_{idx}.{image_extn}\"\n",
        "                tmp_mask_name = f\"{mask_name}_{idx}.{mask_extn}\"\n",
        "\n",
        "            image_path = os.path.join(save_path, \"images\", tmp_img_name)\n",
        "            mask_path = os.path.join(save_path, \"masks\", tmp_mask_name)\n",
        "\n",
        "            cv2.imwrite(image_path, i)\n",
        "            cv2.imwrite(mask_path, m)\n",
        "\n",
        "            idx += 1"
      ]
    },
    {
      "attachments": {},
      "cell_type": "markdown",
      "metadata": {},
      "source": [
        "## **Geometric Augmentation**"
      ]
    },
    {
      "cell_type": "code",
      "execution_count": 32,
      "metadata": {
        "colab": {
          "base_uri": "https://localhost:8080/"
        },
        "id": "R3MkM9ip2JPq",
        "outputId": "c97a3abc-ffb0-4ef3-9807-2ffa8b32e17d"
      },
      "outputs": [
        {
          "name": "stderr",
          "output_type": "stream",
          "text": [
            "100%|██████████| 532/532 [01:59<00:00,  4.44it/s]\n"
          ]
        }
      ],
      "source": [
        "images, masks = load_data()\n",
        "save_path = os.path.join(base_dir, 'aum_geometric')\n",
        "augment_data_geometric(images, masks, save_path, augment=True)"
      ]
    },
    {
      "attachments": {},
      "cell_type": "markdown",
      "metadata": {},
      "source": [
        "## **Espectral Augmentation**"
      ]
    },
    {
      "cell_type": "code",
      "execution_count": 50,
      "metadata": {},
      "outputs": [
        {
          "name": "stderr",
          "output_type": "stream",
          "text": [
            "100%|██████████| 532/532 [00:21<00:00, 25.11it/s]\n"
          ]
        }
      ],
      "source": [
        "images, masks = load_data()\n",
        "save_path = os.path.join(base_dir, 'aum_espectral')\n",
        "augment_data_espectral(images, masks, save_path, augment=True)"
      ]
    },
    {
      "cell_type": "code",
      "execution_count": 48,
      "metadata": {},
      "outputs": [
        {
          "data": {
            "text/plain": [
              "3724"
            ]
          },
          "execution_count": 48,
          "metadata": {},
          "output_type": "execute_result"
        }
      ],
      "source": [
        "len(os.listdir(os.path.join(base_dir, 'aum_espectral/masks')))"
      ]
    }
  ],
  "metadata": {
    "colab": {
      "authorship_tag": "ABX9TyMdrFAJRrq7Tueqt2YfA8n2",
      "provenance": []
    },
    "kernelspec": {
      "display_name": "Python 3",
      "name": "python3"
    },
    "language_info": {
      "codemirror_mode": {
        "name": "ipython",
        "version": 3
      },
      "file_extension": ".py",
      "mimetype": "text/x-python",
      "name": "python",
      "nbconvert_exporter": "python",
      "pygments_lexer": "ipython3",
      "version": "3.8.16"
    }
  },
  "nbformat": 4,
  "nbformat_minor": 0
}
