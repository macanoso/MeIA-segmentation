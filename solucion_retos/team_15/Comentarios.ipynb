{
 "cells": [
  {
   "attachments": {},
   "cell_type": "markdown",
   "metadata": {},
   "source": [
    "# Propuesta de trabajo\n",
    "Debido al tiempo que tuvimos para desarrollar el proyecto y al nivel de conocimientos que tenemos del tema como equipo decidimos abordar el problema de la siguiente manera:\n",
    "1. Seleccionar 4 modelos de optimizacion para aplicar a nuestro problema\n",
    "2. Seleccionamos distintos tamaños de batch para cada modelo\n",
    "3. Fijar como numero de epocas 10 para cada modelo\n",
    "4. Comparar los resultados de cada modelo y seleccionar el mejor"
   ]
  },
  {
   "attachments": {},
   "cell_type": "markdown",
   "metadata": {},
   "source": [
    "#### Modelos seleccionados:\n",
    "1. SGD\n",
    "2. Experimental.SGD\n",
    "3. Adadelta\n",
    "4. AdamW"
   ]
  },
  {
   "attachments": {},
   "cell_type": "markdown",
   "metadata": {},
   "source": [
    "---\n",
    "## Observaciones de cada modelo"
   ]
  },
  {
   "attachments": {},
   "cell_type": "markdown",
   "metadata": {},
   "source": [
    "#### SGD\n",
    "##### Tabla de entrenamiento\n",
    "Batch size = 16|![''](img/bs_16/Training_bs16_SGD_20min.png)\n",
    "-|-\n",
    "Batch size = 24|![''](img/bs_24/Training_bs24_SGD_13min.png)\n",
    "\n",
    "\n",
    "##### Tabla de resultados para SGD\n",
    "n|Input image|True Mask|Predicted Mask <br>batch size = 16|Predicted Mask batch <br>size = 24\n",
    "-|-|-|-|-\n",
    "1|![''](img/Input/1.png)|![''](img/True/1.png)|![''](img/bs_16/test/1.png)|![''](img/bs_24/test/1.png)\n",
    "2|![''](img/Input/2.png)|![''](img/True/2.png)|![''](img/bs_16/test/2.png)|![''](img/bs_24/test/2.png)\n",
    "3|![''](img/Input/3.png)|![''](img/True/3.png)|![''](img/bs_16/test/3.png)|![''](img/bs_24/test/3.png)\n",
    "4|![''](img/Input/4.png)|![''](img/True/4.png)|![''](img/bs_16/test/4.png)|![''](img/bs_24/test/4.png)\n",
    "5|![''](img/Input/5.png)|![''](img/True/5.png)|![''](img/bs_16/test/5.png)|![''](img/bs_24/test/5.png)\n",
    "6|![''](img/Input/6.png)|![''](img/True/6.png)|![''](img/bs_16/test/6.png)|![''](img/bs_24/test/6.png)\n",
    "7|![''](img/Input/7.png)|![''](img/True/7.png)|![''](img/bs_16/test/7.png)|![''](img/bs_24/test/7.png)\n",
    "8|![''](img/Input/8.png)|![''](img/True/8.png)|![''](img/bs_16/test/8.png)|![''](img/bs_24/test/8.png)\n",
    "9|![''](img/Input/9.png)|![''](img/True/9.png)|![''](img/bs_16/test/9.png)|![''](img/bs_24/test/9.png)\n",
    "10|![''](img/Input/10.png)|![''](img/True/10.png)|![''](img/bs_16/test/10.png)|![''](img/bs_24/test/10.png)\n",
    "\n",
    "<br>\n",
    "Parece existir una relacion entre el color y la exactitud de reconocimiento en cada modelo, en la imagen 7 el modelo entrenado con batch size de 16 reconoce mejor los coche blancos que el modelo de 24 pero el modelo de 24 reconoce mejor el coche rojo que el modelo de 16. Al analizar la imagen 8 ambos tienen rendimientos similares reconociendo coches blancos pero ninguno reconoce al coche rojo. En algunos casos clasifica de forma erronea los techos por ejemplo las imagenes 1 donde el techo azul lo clsaifica como vehiculo pero el techo griz lo reconoce como fondo; en la imagen 10 ambos modelos toman el segmento blanco del techo como vehiculoPor lo generl el modelo con tamaño de batch 16 parece tener un mejor rendimiento que el de 24. En las imagenes: 2, 3, 4, 5 la presicion del modelo con tamaño 16 es mejor."
   ]
  },
  {
   "attachments": {},
   "cell_type": "markdown",
   "metadata": {},
   "source": [
    "#### Experimental.SGD\n",
    "Para este experimento se cambia el algoritmo de optimización (Adam) por el experimental SDG (stochastic gradient descent) y así ver como es el performance de sus predicciones. Este algoritmo junto con 10 epocas y un bach size de 16 hacen que visualmente las predicciones empeoren y se tenga un rendimiento más bajo al segmentar las vehiculos en las imagenes.\n",
    "\n",
    "Las imágenes se pueden encontrar en el siguiente [link](https://docs.google.com/document/d/1CKkL_uH0OTg9QD-rpdnh_aaE0Cnye82MEYeIkJAy9bs/edit?usp=sharing)"
   ]
  },
  {
   "attachments": {},
   "cell_type": "markdown",
   "metadata": {},
   "source": [
    "#### Adadelta\n",
    "[link](https://drive.google.com/file/d/17apWGEh62UMSAWJt5NiCyZRpRUUMvmdm/view?usp=sharing) Lo que hice fue, a partir del código que no dieron, aumentar el batch a 32 (el original era 16), en el trainig. La predicción empeoró haciendo que las partes amarillas crecieran y se hicieran de bordes menos definidos (como puede verse en la foto). En esta el optimizador fue Adam. Tambien intenté cambiar el batch de spittling a 32 pero el programa no corrió con este cambio.<br>\n",
    "[link](https://drive.google.com/file/d/1zvVi54ZBL0uqmBIzRT2sg7zDMfuo63Q0/view?usp=sharing) Luego cambié a 20 epocas, batch trainig 16, optimizador=Adam y el resultado no fue mejor, porque, como puede verse, desapareció la camioneta.<br>\n",
    "[link](https://drive.google.com/file/d/1nrHNKEq3aAwq4qc2ZJefCjFZhbIPCctr/view?usp=sharing) Luego cambié el optimizador a Adadelta y probe con diferentes tamaños de batch. Acá el resultado con 16. La mascara se tiño toda de amarillo, lo que significa que este optimizador no discimina fondo de vehiculos, calificando todo como vehiculo.<br>\n",
    "[link](https://drive.google.com/file/d/142rYKSz-XDFuxp_cWff5CiCmJEJVLJW3/view?usp=sharing)<br>\n",
    "[link](https://drive.google.com/file/d/1f2zEy_Z2_a1EGS4HR6DiPA_gH6tSpgLz/view?usp=sharing)<br>\n",
    "[link](https://drive.google.com/file/d/1eiDw57ViQPza-k7YcT5tkj6HGPSZ1CtB/view?usp=sharing)<br>\n",
    "Acá pueden verse los resultados con el mismo optimizador (Adadelta) con batch training de 24, 32 y 36. Cómo puede verse, en todos lo casos el resultado empeoró. Sin embargo, algo curioso es que en lo tamaños 16 y 36 se tiño casi completamente de amarillo, en tanto que en 24 y 32, alterna pixeles verdes y amarillos pero delimita bien los bordes. Esto me hace pensar que, en estos caso, por alguna razón atribuible al optimizador, hay un filtro o varios que son favorecidos sobre otros.<br>\n",
    "[link](https://drive.google.com/file/d/1wQ89Tr-QlKgkqSZfgbNqWt9ppXQSIC1x/view?usp=sharing) Y una última observación interesante es que a partir de un tamaño de batch, con Adadelta, no pudo calcular la Accuracy ni el loss para los datos de validación, aunque si para el training y el codígo no dejó de correr."
   ]
  },
  {
   "attachments": {},
   "cell_type": "markdown",
   "metadata": {},
   "source": [
    "#### AdamW\n",
    "La modificacion que se hizo para este codigo fue la implementacion de un nuevo optimizador, el cual basicamente es un metodo de descenso de gradiente que se basa en la estimación adaptativa de momentos de primer y segundo orden con un método añadido para decaer pesos, aunado a esto y como se obervan en las imagenes de prubas con diferenctes BATCH que son de 16,28,31, es que el BATCH de 31 conlleva una mejor adaptacion de lo que es la imagen y del reconocimiento de autos, en segundo lugar estaria el BATCH de 16 que tiene aun mas errores y le cuesta diferenciar entre autos e infraestructura, y por ultimo el BATCH de 28, que por alguna extraña razon es la que peor sale, reconociendo casi de manera nula los autos y camionetas, se puede concluir que es debido al tamaño de datos que se le estan enviando al algoritmo junto con el optimizador \"adamW\", que no precismante es el mejor, ni el mas rapido para lo solicitado en el reto, ademas de ello se podria decir que si, la corrida que ocupa mas tiempo es la que tiene un BATCH de 31, y la de menor tiempo seria donde este mismo es de 16, para terminar este programa itera mejor con un EPOCH mas alto, ya que el que se establecio como base fue uno de 10, pero entre mas alto sea el EPOCH, mejor se reconocera la imagen y la reestructuracion sera mejor y con mayor calidad, en el sentido de reconocimiento de autos, ademas como los resultados lo muestran la precision del BATCH de 31 es similar a la del BATCH con 16, claro la precision del BATCH de 28, es la peor de todas.\n",
    "\n",
    "Resultados\n",
    "\n",
    "Carpeta con todos los BATCH : [link](https://drive.google.com/drive/folders/19t0rrBMXd9Q5sbKdQHhafvAujZIuhBAk?usp=sharing)\n",
    "\n",
    "BATCH 16 : [link](https://drive.google.com/drive/folders/1VH3ccOuMsEkB3EbpPgqshGd0IvRNkgG5?usp=sharing)<br>\n",
    "BATCH 28 : [link](https://drive.google.com/drive/folders/1J74pxgpvzrwTDVmoaRpJxN4p_oaD3IZk?usp=sharing)<br>\n",
    "BATCH 31 : [link](https://drive.google.com/drive/folders/1VTd-8-orFy4AkQVeUrr6tW-G5gbEg02y?usp=sharing)"
   ]
  },
  {
   "attachments": {},
   "cell_type": "markdown",
   "metadata": {},
   "source": [
    "---\n",
    "## Trabajo futuro\n",
    "- Probar con otros modelos de optimización\n",
    "- Probar con otros tamaños de batch\n",
    "- Probar con otros tamaños de epocas\n",
    "- Realizar el aumento de datos con las tecnicas presentadas durante el curso"
   ]
  },
  {
   "attachments": {},
   "cell_type": "markdown",
   "metadata": {},
   "source": [
    "---\n",
    "## Conclusiones\n",
    "En conclusion para este reto, las clases que se tuvieron en el macroentrenamiento, ademas de las asesorias de los diversos profesores, permitieron comprender de manera general que es lo que el codigo esta realizando, para asi poder implementar las diversas modificaciones que como equipo se acordaron, que fueron las modificaciones de lo que es el optimizador, junto con el BATCH y el EPOCH, ademas de ello se indago en este tema para intentar profundizar aun mas en las modificaciones, y entender mejor la sintaxis, tambien se comparo lo que fue la salida de imagenes con las diversas optimizaciones que se implementaron en los \"notebooks\", concluyendo asi que este reto contribuyo a la curva de aprendizaje sobre la \"inteligencia artificial\" para el reconocimiento de autos en imagenes proporcionadas por drones, así como observar las posibles mejoras en futuros proyectos relacionados con esto y tener un precedente de conocimientos para este tipo de temas que contrubuiran en un futuro en el desarrollo de nuevas tecnologias."
   ]
  },
  {
   "attachments": {},
   "cell_type": "markdown",
   "metadata": {},
   "source": [
    "---\n",
    "## Desarrolladores\n",
    "- Hernández Ruiz de Esparza Guillermo - UNAM\n",
    "- Thomas Pineda Tamayo - UNAL\n",
    "- Quistian Silva Pedro Angel - INAOEP\n",
    "- Alvarado Lucas Elliot - UNAM"
   ]
  }
 ],
 "metadata": {
  "language_info": {
   "name": "python"
  },
  "orig_nbformat": 4
 },
 "nbformat": 4,
 "nbformat_minor": 2
}
